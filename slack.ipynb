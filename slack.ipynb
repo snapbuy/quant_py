{
 "cells": [
  {
   "cell_type": "markdown",
   "id": "e3042ebd",
   "metadata": {},
   "source": [
    "# 슬랙 연결하기 및 스케줄링\n",
    "\n",
    "이번 장에서는 실무에서 가장 많이 사용되는 협업용 툴 중 하나인 슬랙과 파이썬을 연결하여, 파이썬에서 슬랙으로 메세지지 혹은 파일을 전송하는 법에 대해 알아보겠다. 또한 스케줄링을 통해 정해진 시간에 코드가 자동으로 실행되는 법에 대해서도 알아보겠다.\n",
    "\n",
    "## 슬랙이란?\n",
    "\n",
    "슬랙은 개발자들과 직장인들을 위한 업무용 도구 중 하나로 기본적인 메신저 기능 외에도 각종 툴들을 연동할 수 있다는 점에서 널리 사용되고 있다. 또한 API를 통해 파이썬과 같은 프로그램에서도 매우 쉽게 연결할 수 있다.\n",
    "\n",
    "슬랙은 다른 플랫폼과는 달리 최초 회원가입이 필요하지 않으며, 이메일 인증 후 사용할 수 있다. 또한 작업 공간(workspace)의 초대 링크가 있으면 사용할 아이디와 비밀번호를 입력하여 사용이 가능하며, 각각의 작업 공간(workspace) 마다 각기 다른 이메일 계정을 사용할 수도 있다.\n",
    "\n",
    "슬랙을 사용하기 위해 먼저 아래의 사이트에 접속하자.\n",
    "\n",
    "```\n",
    "https://slack.com/\n",
    "```\n",
    "\n",
    "그 후 우측 상단의 [무료 체험]을 클릭한다.\n",
    "\n",
    "```{figure} image/data_global/new.png\n",
    "---\n",
    "name: new\n",
    "---\n",
    "슬랙 시작하기\n",
    "```\n",
    "\n",
    "슬랙에서 사용할 메일 계정을 입력하거나 구글/Apple 아이디를 입력한다. 구글로 로그인하는 것을 추천한다.\n",
    "\n",
    "```{figure} image/data_global/login.png\n",
    "---\n",
    "name: login\n",
    "---\n",
    "메일 계정 입력하기\n",
    "```\n",
    "\n",
    "로그인을 하였으며 [워크스페이스 생성]을 클릭한다.\n",
    "\n",
    "```{figure} image/data_global/workspace.png\n",
    "---\n",
    "name: workspace\n",
    "---\n",
    "워크스페이스 생성하기\n",
    "```\n",
    "\n",
    "https://www.runit.cloud/2020/07/slack.html"
   ]
  },
  {
   "cell_type": "code",
   "execution_count": null,
   "id": "d13901ff",
   "metadata": {},
   "outputs": [],
   "source": [
    "ㄸ"
   ]
  }
 ],
 "metadata": {
  "kernelspec": {
   "display_name": "Python 3 (ipykernel)",
   "language": "python",
   "name": "python3"
  },
  "language_info": {
   "codemirror_mode": {
    "name": "ipython",
    "version": 3
   },
   "file_extension": ".py",
   "mimetype": "text/x-python",
   "name": "python",
   "nbconvert_exporter": "python",
   "pygments_lexer": "ipython3",
   "version": "3.9.7"
  },
  "varInspector": {
   "cols": {
    "lenName": 16,
    "lenType": 16,
    "lenVar": 40
   },
   "kernels_config": {
    "python": {
     "delete_cmd_postfix": "",
     "delete_cmd_prefix": "del ",
     "library": "var_list.py",
     "varRefreshCmd": "print(var_dic_list())"
    },
    "r": {
     "delete_cmd_postfix": ") ",
     "delete_cmd_prefix": "rm(",
     "library": "var_list.r",
     "varRefreshCmd": "cat(var_dic_list()) "
    }
   },
   "types_to_exclude": [
    "module",
    "function",
    "builtin_function_or_method",
    "instance",
    "_Feature"
   ],
   "window_display": false
  }
 },
 "nbformat": 4,
 "nbformat_minor": 5
}
