{
 "cells": [
  {
   "cell_type": "markdown",
   "id": "901ada63",
   "metadata": {},
   "source": [
    "# 동적 크롤링과 정규 표현식\n",
    "\n",
    "이번 장에서는 좀 더 복잡한 형태의 데이터를 크롤링하기 위한 동적 크롤링 및 정규 표현식의 사용방법에 대해 알아보도록 하겠다.\n",
    "\n",
    "## 동적 크롤링이란?\n",
    "\n",
    "지난 장에서 크롤링을 통해 웹사이트의 데이터를 수집하는 방법에 대해 배웠다. 그러나 일반적인 크롤링으로는 정적 데이터, 즉 변하지 않는 데이터만을 수집할 수 있다. 한 페이지 안에서 원하는 정보가 모두 드러나는 것을 정적 데이터라 한다. 반면 입력, 클릭, 로그인 등을 통해 데이터가 바뀌는 것을 동적 데이터라 한다. 예를 들어 네이버 지도에서 매장을 검색을 한 후 좌측에서 원하는 선택할 때 마다 이에 해당하는 내용이 뜬다. \n",
    "\n",
    "```{figure} image/selenium/twosome.png\n",
    "---\n",
    "name: twosome\n",
    "---\n",
    "동적 페이지\n",
    "```\n",
    "\n",
    "이는 웹페이지에서 사용자가 클릭 등과 같은 조작을 하면 AJAX 호출이 발생하여 그 결과가 페이지의 일부분에만 반영되어 변경되기 때문이다. 즉 매장을 클릭하면 웹브라우저가 연결된 자바스크립트 코드를 실행하여 해당 매장의 상세 정보가 동일한 페이지에 동적으로 표시된다. {numref}`compare`은 정적 페이지와 동적 페이지의 작동 방식의 차이를 나타낸다.\n",
    "\n",
    "```{figure} image/selenium/compare.png\n",
    "---\n",
    "name: compare\n",
    "---\n",
    "정적 페이지와 동적 페이지의 차이\n",
    "```\n",
    "\n",
    "셀레니움을 이용할 경우 정적 페이지와 동적 페이지를 모두 크롤링 할 수 있다는 강력함이 있지만, 상대적으로 속도가 느리다. 따라서 정적 페이지는 기존의 방법을 이용한 크롤링을, 동적 페이지는 셀레니움을 이용한 크롤링을 하는 것이 일반적이다.\n",
    "\n",
    "```{table} 정적 크롤링과 동적 크롤링 비교\n",
    ":name: crawl_compare\n",
    "| 구분 | 정적 크롤링 | 동적 크롤링 |\n",
    "| --- | --- | --- |\n",
    "|사용 패키지\t|requests |\tselenium |\n",
    "|수집 커버리지 |정적 페이지 | 정적/동적 페이지 |\n",
    "| 수집 속도 | 빠름 (별도 페이지 조작 필요 X) | 상대적으로 느림 |\n",
    "| 파싱 패키지 | beautifulsoup | beautifulsoup / selenium |\n",
    "```\n",
    "\n",
    "셀레니움이란 다양한 브라우저(인터넷 익스플로러, 크롬, 사파리 오페라 등) 및 플랫폼에서 웹 응용 프로그램을 테스트할 수 있게 해주는 라이브러리다. 즉 웹 자동화 테스트 용도로 개발이 되었기에 실제 브라우저를 사용하며, 페이지가 변화하는 것도 관찰이 가능하기에 동적 크롤링에 사용할 수 있다.\n",
    "\n",
    "### 셀레니움 실습하기\n",
    "\n",
    "이제 간단한 예제를 통해 셀레니움 사용법을 알아보도록 하자."
   ]
  },
  {
   "cell_type": "code",
   "execution_count": 18,
   "id": "ef16f68e",
   "metadata": {},
   "outputs": [
    {
     "name": "stdout",
     "output_type": "stream",
     "text": [
      "\n"
     ]
    }
   ],
   "source": [
    "from selenium import webdriver\n",
    "from selenium.webdriver.chrome.service import Service\n",
    "from webdriver_manager.chrome import ChromeDriverManager\n",
    "from selenium.webdriver.common.by import By\n",
    "from selenium.webdriver.common.keys import Keys\n",
    "import time\n",
    "from bs4 import BeautifulSoup\n",
    "\n",
    "driver = webdriver.Chrome(service=Service(ChromeDriverManager().install()))"
   ]
  },
  {
   "cell_type": "markdown",
   "id": "02eec4dc",
   "metadata": {},
   "source": [
    "```{figure} image/selenium/selenium_open.png\n",
    "---\n",
    "name: selenium_open\n",
    "---\n",
    "셀레니움: 창 열기\n",
    "```\n",
    "\n",
    "`webdriver.Chrome(service=Service(ChromeDriverManager().install()))` 코드를 실행하면 크롬 브라우저의 버전을 탐색한 다음, 버전에 맞는 웹드라이버를 다운로드하여 해당 경로를 셀레니움에 전달해준다. 또한 {numref}`selenium_open`와 같이 크롬 창이 열리며, 좌측 상단에 'Chrome이 자동화된 테스트 소프트웨어에 의해 제어되고 있습니다.'라는 문구가 뜬다. 이제 파이썬 코드를 이용해 해당 페이지를 조작할 수 있다. "
   ]
  },
  {
   "cell_type": "code",
   "execution_count": 19,
   "id": "8f9d64a4",
   "metadata": {},
   "outputs": [
    {
     "data": {
      "text/plain": [
       "'html lang=\"ko\" data-dark=\"false\" data-useragent=\"Mozilla/5.0 (Windows NT 10.0; Win64; x64) AppleWebKit/537.36 (KHTML, like Gecko) Chrome/103.0.5060.114 Safari/537.36\"><head><script async=\"\" type=\"text/javascript\" src=\"https://ssl.pstatic.net/tveta/libs/ndpsdk/prod/ndp-core.js\"></script> <meta charset=\"utf-8\"> <title>NAVER</title> <meta http-equiv=\"X-UA-Compatible\" content=\"IE=edge\"> <meta name=\"viewport\" content=\"width=1190\"> <meta name=\"apple-mobile-web-app-title\" content=\"NAVER\"> <meta name=\"robots\" content=\"index,nofollow\"> <meta name=\"description\" content=\"네이버 메인에서 다양한 정보와 유용한 컨텐츠를 만나 보세요\"> <meta property=\"og:title\" content=\"네이버\"> <meta property=\"og:url\" content=\"https://www.naver.com/\"> <meta property=\"og:image\" content=\"https://s.pstatic.net/static/www/mobile/edit/2016/0705/mobile_212852414260.png\"> <meta property=\"og:description\" content=\"네이버 메인에서 다양한 정보와 유용한 컨텐츠를 만나 보세요\"> <meta name=\"twitter:card\" content=\"summary\"> <meta name=\"twitter:title\" content=\"\"> <meta name=\"twitter:ur'"
      ]
     },
     "execution_count": 19,
     "metadata": {},
     "output_type": "execute_result"
    }
   ],
   "source": [
    "url = 'https://www.naver.com/'\n",
    "driver.get(url)\n",
    "driver.page_source[1:1000]"
   ]
  },
  {
   "cell_type": "markdown",
   "id": "9f94a5a9",
   "metadata": {},
   "source": [
    "\n",
    "```{figure} image/selenium/selenium_naver.png\n",
    "---\n",
    "name: selenium_naver\n",
    "---\n",
    "셀레니움을 이용한 네이버 접속\n",
    "```\n",
    "\n",
    "`driver.get()` 내에 URL 주소를 입력하면 해당 주소로 이동한다. 또한 `driver.page_source`를 통해 열려있는 창의 HTML 코드를 확인할 수도 있다. 이제 네이버 메인에서 [뉴스]버튼을 누르는 동작을 실행해보자. 개발자도구 화면을 통해 확인해보면 [뉴스] 탭은 아래 HTML에 위치하고 있다.\n",
    "\n",
    "```\n",
    "<a href=\"https://news.naver.com/\" class=\"nav\" data-clk=\"svc.news\">뉴스</a>\n",
    "```\n",
    "\n",
    "위 정보를 통해 해당 부분을 클릭할 수 있다.\n",
    "\n",
    "```{figure} image/selenium/selenium_news.png\n",
    "---\n",
    "name: selenium_news\n",
    "---\n",
    "뉴스 탭의 HTML 확인\n",
    "```"
   ]
  },
  {
   "cell_type": "code",
   "execution_count": 20,
   "id": "07a62196",
   "metadata": {},
   "outputs": [],
   "source": [
    "driver.find_element(By.LINK_TEXT , value = '뉴스').click()"
   ]
  },
  {
   "cell_type": "markdown",
   "id": "fa533aec",
   "metadata": {},
   "source": [
    "```{figure} image/selenium/selenium_news2.png\n",
    "---\n",
    "name: selenium_news2\n",
    "---\n",
    "뉴스 탭으로 이동\n",
    "```\n",
    "\n",
    "브라우저 상에서 보이는 버튼, 검색창, 사진, 테이블, 동영상 등을 엘레먼트(element, 요소)라고 한다. `find_element()`는 다양한 방법으로 엘레먼트에 접근하게 해주며, `By.*` 를 통해 어떠한 방법으로 엘레먼트에 접근할지 선언한다. LINK_TEXT의 경우 링크가 달려 있는 텍스트로 접근하며, value = '뉴스', 즉 뉴스라는 단어가 있는 엘레먼트로 접근한다. `click()` 함수는 마우스 클릭을 실행하며 결과 적으로 뉴스 탭을 클릭한 후 페이지가 이동되는 것을 확인할 수 있다. `find_element()` 내 접근방법 및 셀레니움의 각종 동작 제어 방법에 대해서는 나중에 다시 정리하도록 한다.\n",
    "\n",
    "이제 뒤로가기를 실행해보도록 하자."
   ]
  },
  {
   "cell_type": "code",
   "execution_count": 21,
   "id": "4ac6f4a0",
   "metadata": {},
   "outputs": [],
   "source": [
    "driver.back()"
   ]
  },
  {
   "cell_type": "markdown",
   "id": "6d7c6722",
   "metadata": {},
   "source": [
    "`back()`은 뒤로가기를 의미하며, 기존 페이지인 네이버 메인으로 이동한다.\n",
    "\n",
    "이제 특정 검색어를 검색하는 방법에 대해 알아보자. 먼저 검색창의 위치가 어디에 있는지 확인해보면 query라는 id와 input_text라는 class에 위치하고 있다.\n",
    "\n",
    "```{figure} image/selenium/selenium_search.png\n",
    "---\n",
    "name: selenium_search\n",
    "---\n",
    "검색 창 위치 확인하기\n",
    "```"
   ]
  },
  {
   "cell_type": "code",
   "execution_count": 22,
   "id": "338fff0a",
   "metadata": {},
   "outputs": [],
   "source": [
    "driver.find_element(By.CLASS_NAME, value = 'input_text').send_keys('퀀트 투자 포트폴리오 만들기')"
   ]
  },
  {
   "cell_type": "markdown",
   "id": "ab606082",
   "metadata": {},
   "source": [
    "```{figure} image/selenium/selenium_send_keys.png\n",
    "---\n",
    "name: selenium_send_keys\n",
    "---\n",
    "검색어 입력하기\n",
    "```\n",
    "\n",
    "`find_element()` 내에 By.CLASS_NAME을 입력하면 클래스 명이 있는 엘레먼트에 접근하며, 여기서는 검색창에 접근한다. 그 후 `send_keys()` 내에 텍스트를 입력하면 해당 내용이 웹페이지에 입력된다. 이제 웹페이지에서 검색 버튼 해당하는 돋보기 모양을 클릭하거나 엔터키를 누르면 검색이 실행된다. 먼저 돋보기 모양의 위치를 확인해보면 search_btn id와 btn_submit 클래스에 위치하고 있다.\n",
    "\n",
    "```{figure} image/selenium/selenium_searchbutton.png\n",
    "---\n",
    "name: selenium_searchbutton\n",
    "---\n",
    "검색 버튼의 위치 확인\n",
    "```"
   ]
  },
  {
   "cell_type": "code",
   "execution_count": 23,
   "id": "af580e2d",
   "metadata": {},
   "outputs": [],
   "source": [
    "driver.find_element(By.CLASS_NAME, value = 'btn_submit').send_keys(Keys.ENTER)"
   ]
  },
  {
   "cell_type": "markdown",
   "id": "66ee71f5",
   "metadata": {},
   "source": [
    "```{figure} image/selenium/selenium_enter.png\n",
    "---\n",
    "name: selenium_enter\n",
    "---\n",
    "엔터키 제어하기\n",
    "```\n",
    "\n",
    "`find_element(By.CLASS_NAME, value = 'btn_submit')`를 통해 검색 버튼에 접속한다. 그 후 `send_keys(Keys.ENTER)`를 입력하면 엔터키를 누르는 동작이 실행된다. 페이지를 확인해보면 검색이 실행된 후 결과를 확인할 수 있다. \n",
    "\n",
    "이번에는 다른 단어를 검색해보도록 하자. 웹에서 기존 검색어 내용을 지운 후, 검색어를 입력하고, 버튼을 클릭해야 한다. 이를 위해 검색어 박스와 검색 버튼의 위치를 찾아보면 다음과 같다.\n",
    "\n",
    "- 검색어 박스: box_window 클래스\n",
    "- 검색 버튼: bt_search 클래스\n",
    "\n",
    "```{figure} image/selenium/selenium_research.png\n",
    "---\n",
    "name: selenium_research\n",
    "---\n",
    "검색어 박스와 검색 버튼의 위치 확인\n",
    "```"
   ]
  },
  {
   "cell_type": "code",
   "execution_count": 24,
   "id": "99f3f620",
   "metadata": {},
   "outputs": [],
   "source": [
    "driver.find_element(By.CLASS_NAME, value = 'box_window').clear()\n",
    "driver.find_element(By.CLASS_NAME, value = 'box_window').send_keys('이현열 퀀트')\n",
    "driver.find_element(By.CLASS_NAME, value = 'bt_search').click()"
   ]
  },
  {
   "cell_type": "markdown",
   "id": "013bcce9",
   "metadata": {},
   "source": [
    "```{figure} image/selenium/selenium_research2.png\n",
    "---\n",
    "name: selenium_research2\n",
    "---\n",
    "새로운 단어 검색하기\n",
    "```\n",
    "\n",
    "1. 검색어 박스(box_window)에 접근한 후, `clear()`를 실행하면 모든 텍스트가 지워진다.\n",
    "2. `send_keys('이현열 퀀트')`를 실행하여 새로운 검색어를 입력한다.\n",
    "3. 검색 버튼(bt_search)에 접근한 후, `click()`을 실행하여 해당 버튼을 클릭한다.\n",
    "\n",
    "이번에는 [VIEW] 버튼을 클릭하는 동작을 실행해보도록 한다. 기존처럼 링크나 클래스명을 통해 엘레먼트에 접근할 수도 있지만, 이번에는 XPATH를 이용해 접근해보도록 하자. XPATH란 XML 중 특정 값의 태그나 속성을 찾기 쉽게 만든 주소다. 예를 들어 윈도우 탐색기에서는 특정 폴더의 위치가 '**C:\\Program Files**'과 같이 주소처럼 보이며 이는 윈도우의 PATH 문법이다. XML 역시 이와 동일한 개념의 XPATH가 있다. 웹페이지에서 XPATH를 찾는 법은 다음과 같다.\n",
    "\n",
    "1. 개발자도구 화면에서 위치를 찾고 싶은 부분에서 마우스 우클릭을 한다.\n",
    "2. [Copy → Copy Xpath]를 선택한다.\n",
    "\n",
    "```{figure} image/selenium/selenium_xpath.png\n",
    "---\n",
    "name: selenium_xpath\n",
    "---\n",
    "XPATH 찾기 및 복사하기\n",
    "```\n",
    "\n",
    "위 과정을 통해 XPATH가 복사된다. 메모장을 확인해보면 VEW 부분의 XPATH는 다음과 같다.\n",
    "\n",
    "```\n",
    "//*[@id=\"lnb\"]/div[1]/div/ul/li[2]/a\n",
    "```\n",
    "\n",
    "이를 이용해 해당 부분을 클릭하는 동작을 실행해보자."
   ]
  },
  {
   "cell_type": "code",
   "execution_count": 25,
   "id": "fc669a3b",
   "metadata": {},
   "outputs": [],
   "source": [
    "driver.find_element(By.XPATH, value = '//*[@id=\"lnb\"]/div[1]/div/ul/li[2]/a').click()"
   ]
  },
  {
   "cell_type": "markdown",
   "id": "d50acece",
   "metadata": {},
   "source": [
    "```{figure} image/selenium/selenium_view.png\n",
    "---\n",
    "name: selenium_view\n",
    "---\n",
    "VIEW 부분으로 이동\n",
    "```\n",
    "\n",
    "탭이 [통합] 검색이 아닌 [VIEW]로 변경되었다. 이번에는 [옵션]을 클릭한 후 정렬을 [최신순]으로 하는 동작을 실행해보자. 둘의 위치는 다음과 같다.\n",
    "\n",
    "- 옵션 버튼: option_filter (클래스)\n",
    "- 최신순 버튼: //*[@id=\"snb\"]/div[2]/ul/li[2]/div/div/a[2] (Xpath)\n",
    "\n",
    "```{figure} image/selenium/xpath.png\n",
    "---\n",
    "name: xpath\n",
    "---\n",
    "옵션 버튼과 최신순 버튼의 위치\n",
    "```\n",
    "\n",
    "코드 실행에 앞서 {numref}`xpath_close`와 같이 옵션 창이 열려있다면 [X] 버튼을 눌러 닫아주도록 한다.\n",
    "\n",
    "```{figure} image/selenium/xpath_close.png\n",
    "---\n",
    "name: xpath_close\n",
    "---\n",
    "옵션 창 닫기\n",
    "```\n",
    "옵션 창을 닫은 후 아래의 코드를 실행하도록 한다."
   ]
  },
  {
   "cell_type": "code",
   "execution_count": 13,
   "id": "7c200008",
   "metadata": {},
   "outputs": [],
   "source": [
    "driver.find_element(By.CLASS_NAME, value = 'option_filter').click()\n",
    "driver.find_element(By.XPATH, value = '//*[@id=\"snb\"]/div[2]/ul/li[2]/div/div/a[2]').click()"
   ]
  },
  {
   "cell_type": "markdown",
   "id": "58874958",
   "metadata": {},
   "source": [
    "```{figure} image/selenium/selenium_new.png\n",
    "---\n",
    "name: selenium_new\n",
    "---\n",
    "최신순 정렬\n",
    "```\n",
    "\n",
    "옵션 클릭 후 최신순 버튼을 클릭하는 동작을 수행하여 검색어가 최신순으로 정렬되었다. 이제 page down 기능을 수행해보도록 하자."
   ]
  },
  {
   "cell_type": "code",
   "execution_count": 14,
   "id": "355d25c2",
   "metadata": {},
   "outputs": [],
   "source": [
    "driver.execute_script('window.scrollTo(0, document.body.scrollHeight);')\n",
    "# driver.find_element(By.TAG_NAME, value = 'body').send_keys(Keys.PAGE_DOWN)"
   ]
  },
  {
   "cell_type": "markdown",
   "id": "90f7db0c",
   "metadata": {},
   "source": [
    "먼저 `document.body.scrollHeight`는 웹페이지의 높이를 나타내는 것으로써, `window.scrollTo(0, document.body.scrollHeight);`는 웹페이지의 가장 하단까지 스크롤을 내리라는 자바스크립트 명령어다. `driver.execute_script()`를 통해 해당 명령어를 실행하면 웹페이지가 아래로 스크롤이 이동된다. `send_keys(Keys.PAGE_DOWN)` 는 키보드의 페이지다운(PgDn) 버튼을 누르는 동작이며 이 역시 페이지가 아래로 이동시킨다.\n",
    "\n",
    "그러나 결과를 살펴보면 스크롤이 끝까지 내려간 후 얼마간의 로딩이 있은 후에 새로운 데이터가 생성된다. 이처럼 유튜브나 인스타그램, 페이스북 등 많은 검색결과를 보여줘야 하는 경우 웹페이지 상에서 한 번에 모든 데이터를 보여주기 보다는 스크롤을 가장 아래로 위치하면 로딩을 거쳐 추가적인 결과를 보여준다. 따라서 스크롤을 한 번만 내리는 것이 아닌 모든 결과가 나올 때까지 내리는 동작을 실행해야 한다."
   ]
  },
  {
   "cell_type": "code",
   "execution_count": 15,
   "id": "3ab8052d",
   "metadata": {},
   "outputs": [],
   "source": [
    "prev_height = driver.execute_script('return document.body.scrollHeight')\n",
    "\n",
    "while True:\n",
    "    driver.execute_script('window.scrollTo(0, document.body.scrollHeight);')\n",
    "    time.sleep(2)\n",
    "    \n",
    "    curr_height = driver.execute_script('return document.body.scrollHeight')\n",
    "    if curr_height == prev_height:\n",
    "        break\n",
    "    prev_height = curr_height"
   ]
  },
  {
   "cell_type": "markdown",
   "id": "ba602c70",
   "metadata": {},
   "source": [
    "1. `return document.body.scrollHeight`은 현재의 창 높이는 반환하는 자바스크립트 명령어이며, 이를 prev_height에 저장한다.\n",
    "2. while문을 통해 반복문을 실행한다.\n",
    "3. 셀레니움을 통해 페이지의 최하단으로 스크롤을 내린다.\n",
    "4. 페이지가 로딩되는 시간을 기다리기 위해 2초간 슬립을 준다.\n",
    "5. curr_height에 현재 창 높이를 저장한다.\n",
    "6. curr_height와 prev_height가 동일하다는 의미는 페이지가 끝까지 내려왔다는 의미이다. 따라서 이 경우 `break`를 통해 while문을 멈추며, 그렇지 않을 경우 다시 스크롤을 내리는 동작을 반복한다.\n",
    "7. prev_height에 새로운 창 높이를 입력한다.\n",
    "\n",
    "이제 모든 검색 결과가 나타났으면 이전 장에서 살펴보았던 정적 크롤링을 통해 데이터 수집이 가능하다. 제목 부분을 확인해보면 **api_txt_lines total_tit _cross_trigger** 클래스에 위치하고 있으며, 이를 통해 모든 제목을 크롤링해보자."
   ]
  },
  {
   "cell_type": "code",
   "execution_count": 16,
   "id": "4aee77ea",
   "metadata": {},
   "outputs": [
    {
     "data": {
      "text/plain": [
       "['[서평] 감으로 하는 투자, 데이터로 하는 투자',\n",
       " 'Investment Book 25 - 감으로 하는 투자 데이터로 하는 투자',\n",
       " '퀀트 투자자라면 반드시 생각해야 할 7가지',\n",
       " '[주식] 올라떼 - 구루(guru)들의 주식투자(1탄)',\n",
       " '패스트캠퍼스 캐시백 챌린지 44일차',\n",
       " '[재테크도서] 감으로 하는 투자 데이터로 하는 투자 - 천영록,이현열 저.',\n",
       " '이현열 교수님 퀀트 관련 Q&A 세션',\n",
       " '‘분산-장투해라’ 감으로하는 투자, 데이터로 하는 투자, 천영록-이현열',\n",
       " '패스트캠퍼스 캐시백 챌린지 중간미션, R을 활용한 퀀트 전략 강의 후기',\n",
       " '\"감으로 하는 투자, 데이터로 하는 투자\"']"
      ]
     },
     "execution_count": 16,
     "metadata": {},
     "output_type": "execute_result"
    }
   ],
   "source": [
    "html = BeautifulSoup(driver.page_source, 'lxml')\n",
    "txt = html.find_all(class_ = 'api_txt_lines total_tit _cross_trigger')\n",
    "txt_list = [i.get_text() for i in txt]\n",
    "\n",
    "txt_list[0:10]"
   ]
  },
  {
   "cell_type": "markdown",
   "id": "b1c98a55",
   "metadata": {},
   "source": [
    "1. `driver.page_source`를 통해 현재 웹페이지의 HTML 정보를 가져올 수 있으며, 이를 BeautifulSoup 객체로 만들어준다.\n",
    "2. `find_all()` 함수를 통해 제목 부분에 위치하는 데이터를 모두 불러온다.\n",
    "3. for문을 통해 텍스트만 추출한다.\n",
    "\n",
    "이처럼 동적 페이지의 경우도 셀레니움을 통해 웹페이지를 제어한 후 `BeautifulSoup` 패키지를 사용해 원하는 부분을 추출하면 얼마든지 크롤링이 가능하다."
   ]
  },
  {
   "cell_type": "code",
   "execution_count": 17,
   "id": "a177c760",
   "metadata": {},
   "outputs": [],
   "source": [
    "driver.quit()"
   ]
  },
  {
   "cell_type": "markdown",
   "id": "96852da3",
   "metadata": {},
   "source": [
    "`driver.quit()`을 실행하면 열려있던 페이지가 종료된다.\n",
    "\n",
    "### 셀레니움 명령어 정리\n",
    "\n",
    "마지막으로 셀레니움의 각종 명령어는 다음과 같다.\n",
    "\n",
    "#### 브라우저 관련\n",
    "\n",
    "- `webdriver.Chrome()`: 브라우저 열기\n",
    "- `driver.close()`: 현재 탭 닫기\n",
    "- `driver.quit()`: 브라우저 닫기\n",
    "- `driver.back()`: 뒤로 가기\n",
    "- `driver.forward()`: 앞으로 가기\n",
    "\n",
    "#### 엘레먼트 접근\n",
    "\n",
    "`driver.find_element(by = 'id', value = 'value')` 중 by = 'id' 부분에 해당하는 방법에 따라 엘레먼트에 접근한다. 또한 `find_element()`는 해당하는 엘레먼트가 여러 개 있을 경우 첫 번째 요소 하나만을 반환하며, `find_elements()`는 여러 엘레먼트가 있을 경우 리스트로 반환한다.\n",
    "\n",
    "- `By.ID`: 태그의 ID 값으로 추출\n",
    "- `By.NAME`: 태그의 NAME 값으로 추출\n",
    "- `By.XPATH`: 태그의 XPATH 값으로 추출\n",
    "- `By.LINK_TEXT`: 링크에 존재하는 텍스트로 추출\n",
    "- `By.TAG_NAME`: 태그명으로 추출\n",
    "- `By.CLASS_NAME`: 태그의 클래스명으로 추출\n",
    "- `By.CSS_SELECTOR`: CSS 선택자로 추출\n",
    "\n",
    "#### 동작\n",
    "\n",
    "엘레먼트에 접근한 후 각종 동작을 수행할 수 있다.\n",
    "\n",
    "- `click()`: 엘레먼트를 클릭\n",
    "- `clear()`: 텍스트 삭제\n",
    "- `send_keys(text)`: 텍스트 입력\n",
    "- `send_keys(Keys.CONTROL + 'v')`: 컨트롤 + v 누르기\n",
    "\n",
    "#### 자바스크립트 코드 실행\n",
    "\n",
    "`execute_script()` 내에 자바스크립트 코드를 입력하여 여러가지 동작을 수행할 수 있다.\n",
    "\n",
    "```{note}\n",
    "파이썬 내 셀레니움은 아래 페이지에 상세하게 설명되어 있다.\n",
    "\n",
    "https://selenium-python.readthedocs.io/\n",
    "```\n",
    "\n",
    "## 정규 표현식\n",
    "\n",
    "정규 표현식(정규식)이란 프로그래밍에서 문자열을 다룰 때 문자열의 일정한 패턴을 표현하는 일종의 형식 언어를 말하며, 영어로는 regular expression를 줄여 일반적으로 regex라 표현한다. 정규 표현식은 파이썬만의 고유 문법이 아니라 문자열을 처리하는 모든 프로그래밍에서 사용되는 공통 문법이기에 한 번 알아두면 파이썬 뿐만 아니라 다른 언어에서도 쉽게 적용할 수 있다. 본 책의 내용은 아래 페이지의 내용을 참고하여 작성되었다.\n",
    "\n",
    "```\n",
    "https://docs.python.org/3.10/howto/regex.html\n",
    "```\n",
    "\n",
    "### 정규 표현식을 알아야 하는 이유\n",
    "\n",
    "만약 우리가 크롤링한 결과물이 다음과 같다고 하자.\n",
    "\n",
    "```\n",
    "\"동 기업의 매출액은 전년 대비 29.2% 늘어났습니다.\"\n",
    "```\n",
    "\n",
    "만일 이 중에서 [29.2%]에 해당하는 데이터만 추출하려면 어떻게 해야 할까? 얼핏 보기에도 꽤나 복잡한 방법을 통해 클렌징을 해야 한다. 그러나 정규 표현식을 이용할 경우 이는 매우 간단한 작업이다."
   ]
  },
  {
   "cell_type": "code",
   "execution_count": 2,
   "id": "5f613b8f",
   "metadata": {},
   "outputs": [
    {
     "data": {
      "text/plain": [
       "['29.2%']"
      ]
     },
     "execution_count": 2,
     "metadata": {},
     "output_type": "execute_result"
    }
   ],
   "source": [
    "import re\n",
    "\n",
    "data = '동 기업의 매출액은 전년 대비 29.2% 늘어났습니다.'\n",
    "re.findall('\\d+.\\d+%', data)"
   ]
  },
  {
   "cell_type": "markdown",
   "id": "0441e60b",
   "metadata": {},
   "source": [
    "'\\d+.\\d+%'라는 표현식은 '숫자.숫자%'의 형태를 나타내는 정규 표현식이며, re 모듈의 `findall()` 함수를 통해 텍스트에서 해당 표현식의 글자를 추출할 수 있다. 이제 정규 표현식의 종류에는 어떠한 것들이 있는지 알아보도록 하자.\n",
    "\n",
    "### 메타문자\n",
    "\n",
    "프로그래밍에서 메타 문자(Meta Characters)란 문자가 가진 원래의 의미가 아닌 특별한 용도로 사용되는 문자를 말한다. 정규 표현식에서 사용되는 메타 문자는 다음과 같다.\n",
    "\n",
    "```\n",
    ". ^ $ * + ? { } [ ] \\ | ( )\n",
    "```\n",
    "\n",
    "정규 표현식에 메타 문자를 사용하면 특별한 기능을 갖는다.\n",
    "\n",
    "#### 문자 클래스([ ])\n",
    "\n",
    "정규 표현식에서 대괄호([ ])는 **대괄호 안에 포함된 문자들 중 하나와 매치**를 뜻한다. 예를 들어 'apple', 'blueberry', 'coconut'이 정규표현식이 [ae]와 어떻게 매치되는지 살펴보자.\n",
    "\n",
    "- 'apple'에는 정규표현식 내의 a와 e가 모두 존재하므로 매치된다.\n",
    "- 'blueberry'에는 e가 존재하므로 매치된다.\n",
    "- 'coconut'에는 a와 e 중 어느 문자도 포함하고 있지 않으므로 매치되지 않는다.\n",
    "\n",
    "만일 [ ] 안의 두 문자 사이에 하이픈(-)을 입력하면 두 문자 사이의 범위를 의미한다. 즉 [a-e]라는 정규 표현식은 [abcde]와 동일하며, [0-5]는 [012345]와 동일하다. 흔히 [a-z]는 알파벳 소문자를, [A-Z]는 알파벳 대문자를, [a-zA-Z]는 모든 알파벳을, [0-9]는 모든 숫자를 뜻한다. 또한 [ ]안의 ^는 반대를 뜻한다. 즉 [^0-9]는 숫자를 제외한 문자만 매치를, [^abc]는 a,b,c를 제외한 모든 문자와 매치를 뜻한다.\n",
    "\n",
    "자주 사용하는 문자 클래스의 경우 별도의 표기법이 존재하여 훨씬 간단하게 표현할 수 있다.\n",
    "\n",
    "```{table} 자주 사용하는 문자 클래스\n",
    ":name: character_class\n",
    "| 문자 클래스 | 설명 |\n",
    "| --- | --- |\n",
    "| \\d | 숫자와 매치, [0-9]와 동일한 표현식 |\n",
    "| \\D | 숫자가 아닌 것 매치, [^0-9]와 동일한 표현식 |\n",
    "| \\s | whitespace(공백) 문자와 매치, [ \\t\\n\\r\\f\\v]와 동일한 표현식 |\n",
    "| \\S | whitespace 문자가 아닌 것과 매치, [^\\t\\n\\r\\f\\v]와 동일한 표현식 |\n",
    "| \\w | 문자+숫자(alphanumeric)와 매치, [a-zA-Z0-9]와 동일한 표현식 |\n",
    "| \\W | 문자+숫자(alphanumeric)가 아닌 문자와 매치, [^a-zA-Z0-9]와 동일한 표현식 |\n",
    "```\n",
    "\n",
    "{numref}`character_class`에서 알 수 있듯이 대문자로 표현된 문자 클래스는 소문자로 표현된 것의 반대를 의미한다.\n",
    "\n",
    "#### 모든 문자(.)\n",
    "\n",
    "Dot(.) 메타 문자는 줄바꿈 문자인 \\n을 제외한 모든 문자와 매치되며, Dot 하나당 임의의 한 문자를 나타낸다. 정규 표현식 `a.e`는 'a+모든문자+e'의 형태다. 즉 a와 e 문자 사이에는 어떤 문자가 들어가도 모두 매치가 된다. 'abe', 'ace', 'abate', 'ae'의 경우 정규식 `a.e`와 어떻게 매치되는지 살펴보자.\n",
    "\n",
    "- 'abe': a와 e 사이에 b라는 문자가 있으므로 정규식과 매치된다.\n",
    "- 'ace': a와 e 사이에 c라는 문자가 있으므로 정규식과 매치된다.\n",
    "- 'abate': a와 e 사이에 문자가 하나가 아닌 여러개가 있으므로 매치되지 않는다.\n",
    "- 'ae': a와 e 사이에 문자가 없으므로 매치되지 않는다.\n",
    "\n",
    "만일 정규식이 a[.]c의 형태일 경우는 'a.c'를 의미한다. 즉 a와 c사이의 dot(.)은 모든 문자를 의미하는 것이 아닌 문자 그대로인 .를 의미한다.\n",
    "\n",
    "#### 반복문\n",
    "\n",
    "정규 표현식에는 반복을 의미하는 여러 메타문자가 존재한다. 먼저 `*`의 경우 `*` 바로 앞에 있는 문자가 0부터 무한대로 반복될 수 있다는 의미다.  `ca*t` 이라는 정규식은 c 다음의 a가 0부터 무한대로 반복되고 t로 끝이난다는 의미로, 'ct', 'cat', 'caat', 'caaaat' 모두 정규식과 매치된다.\n",
    "\n",
    "반면 메타문자 `+`는 최소 1번 이상 반복될 때 사용된다. `ca+t` 라는 정규식은 c 다음의 a가 1번 이상 반복된 후 t로 끝남을 의미하며, 위 예제에서 ct는 a가 없으므로 매치되지 않는다.\n",
    "\n",
    "메타문자 `{ }`를 사용하면 반복 횟수를 고정할 수 있다. 즉 {m, n}은 반복 횟수가 m부터 n까지 고정된다. m 혹은 n은 생략할 수도 있으며, {3, }의 경우 반복 횟수가 3 이상, {, 3}의 경우 반복 횟수가 3 이하를 의미한다. \n",
    "\n",
    "메타문자 `?`는 {0, 1}과 동일하다. 즉 `?` 앞의 문자가 있어도 되고 없어도 된다는 의미다.\n",
    "\n",
    "#### 기타 메타문자\n",
    "\n",
    "이 외에도 정규 표현식에는 다양한 메타문자가 존재한다.\n",
    "\n",
    "- `|`: or과 동일한 의미다. 즉 `expr1 | expr2`라는 정규식은 expr1 혹은 expr2 라는 의미로써, 둘 중 하나의 형태만 만족해도 매치가 된다.\n",
    "- `^`: 문자열의 맨 처음과 일치함을 의미한다. 즉 `^a` 정규식은 a로 시작하는 단어와 매치가 된다.\n",
    "- `$`: `^`와 반대의 의미로써, 문자열의 끝과 매치함을 의미한다. 즉, `a$`는 a로 끝나는 단어와 매치가 된다.\n",
    "- `\\`: 메타문자의 성질을 없앨때 붙인다. 즉 `^`이나 `$` 문자를 메타문자가 아닌 문자 그 자체로 매치하고 싶은 경우 `\\^`, `\\$`의 형태로 사용한다.\n",
    "- `()`: 괄호안의 문자열을 하나로 묶어 취급한다.\n",
    "\n",
    "### 정규식을 이용한 문자열 검색\n",
    "\n",
    "대략적인 정규 표현식을 익혔다면, 실제 예제를 통해 문자열을 검색하는 법을 알아보자. 파이썬에서는 re(regular expression) 모듈을 통해 정규 표현식을 사용할 수 있다. 정규 표현식과 관련된 메서드는 다음과 같다.\n",
    "\n",
    "- `match()`: 시작부분부터 일치하는 패턴을 찾는다.\n",
    "- `search()`: 첫 번째 일치하는 패턴을 찾는다.\n",
    "- `findall()`: 일치하는 모든 패턴을 찾는다.\n",
    "- `finditer()`: `findall()`과 동일하지만 그 결과로 반복 가능한 객체를 반환한다.\n",
    "\n",
    "간단한 실습을 해보도록 하자.\n",
    "\n",
    "#### `match()`"
   ]
  },
  {
   "cell_type": "code",
   "execution_count": 2,
   "id": "6a6f9ba1",
   "metadata": {},
   "outputs": [
    {
     "data": {
      "text/plain": [
       "re.Pattern"
      ]
     },
     "execution_count": 2,
     "metadata": {},
     "output_type": "execute_result"
    }
   ],
   "source": [
    "import re\n",
    "\n",
    "p = re.compile('[a-z]+')\n",
    "type(p)"
   ]
  },
  {
   "cell_type": "markdown",
   "id": "504e84d2",
   "metadata": {},
   "source": [
    "파이썬에서는 re 모듈을 통해 정규 표현식을 사용할 수 있으며, `re.compile()`을 통해 정규 표현식을 컴파일하여 변수에 저장한 후 사용할 수 있다. `[a-z]+`는 알파벳 소문자가 1부터 여러개까지를 의미하는 표현식이다."
   ]
  },
  {
   "cell_type": "code",
   "execution_count": 3,
   "id": "a191e14f",
   "metadata": {},
   "outputs": [
    {
     "name": "stdout",
     "output_type": "stream",
     "text": [
      "<re.Match object; span=(0, 6), match='python'>\n"
     ]
    }
   ],
   "source": [
    "m = p.match('python')\n",
    "print(m)"
   ]
  },
  {
   "cell_type": "markdown",
   "id": "6973fee0",
   "metadata": {},
   "source": [
    "`match()` 함수를 통해 처음부터 정규 표현식과 일치하는 패턴을 찾을 수 있다. python이라는 단어는 알파벳이 여러개가 있는 경우이므로 match 객체를 반환한다."
   ]
  },
  {
   "cell_type": "code",
   "execution_count": 4,
   "id": "3414070b",
   "metadata": {},
   "outputs": [
    {
     "data": {
      "text/plain": [
       "'python'"
      ]
     },
     "execution_count": 4,
     "metadata": {},
     "output_type": "execute_result"
    }
   ],
   "source": [
    "m.group()"
   ]
  },
  {
   "cell_type": "markdown",
   "id": "11cdd035",
   "metadata": {},
   "source": [
    "match 객체 뒤에 `group()`을 입력하면 매치된 텍스트만 출력할 수 있다."
   ]
  },
  {
   "cell_type": "code",
   "execution_count": 5,
   "id": "8a521fe4",
   "metadata": {},
   "outputs": [
    {
     "name": "stdout",
     "output_type": "stream",
     "text": [
      "None\n"
     ]
    }
   ],
   "source": [
    "m = p.match('Use python')\n",
    "print(m)"
   ]
  },
  {
   "cell_type": "markdown",
   "id": "f1b791bc",
   "metadata": {},
   "source": [
    "'Use python 이라는 문자열은 맨 처음의 문자 \"U\"가 대문자로써, 소문자를 의미하는 정규 표현식 `[a-z]+`와는 매치되지 않아 None을 반환한다."
   ]
  },
  {
   "cell_type": "code",
   "execution_count": 19,
   "id": "9a507502",
   "metadata": {},
   "outputs": [
    {
     "name": "stdout",
     "output_type": "stream",
     "text": [
      "None\n"
     ]
    }
   ],
   "source": [
    "m = p.match('PYTHON')\n",
    "print(m)"
   ]
  },
  {
   "cell_type": "markdown",
   "id": "8056845f",
   "metadata": {},
   "source": [
    "PYTHON이라는 단어는 대문자이므로 이 역시`[a-z]+`와는 매치되지 않는다. 이 경우 대문자에 해당하는 `[A-Z]+` 표현식을 사용해야 매치가 된다."
   ]
  },
  {
   "cell_type": "code",
   "execution_count": 6,
   "id": "b6c4a7ea",
   "metadata": {},
   "outputs": [
    {
     "name": "stdout",
     "output_type": "stream",
     "text": [
      "<re.Match object; span=(0, 3), match='파이썬'>\n"
     ]
    }
   ],
   "source": [
    "p = re.compile('[가-힣]+')\n",
    "m = p.match('파이썬')\n",
    "print(m)"
   ]
  },
  {
   "cell_type": "markdown",
   "id": "0a5e1b05",
   "metadata": {},
   "source": [
    "한글의 경우 알파벳이 아니므로 모든 한글을 뜻하는 `[가-힣]+` 표현식을 사용하면 매치가 된다.\n",
    "\n",
    "#### `search()`\n",
    "\n",
    "`search()` 함수는 첫 번째 일치하는 패턴을 찾는다."
   ]
  },
  {
   "cell_type": "code",
   "execution_count": 7,
   "id": "482de887",
   "metadata": {},
   "outputs": [
    {
     "name": "stdout",
     "output_type": "stream",
     "text": [
      "<re.Match object; span=(0, 6), match='python'>\n"
     ]
    }
   ],
   "source": [
    "p = re.compile('[a-z]+')\n",
    "m = p.search('python')\n",
    "print(m)"
   ]
  },
  {
   "cell_type": "markdown",
   "id": "46c8d661",
   "metadata": {},
   "source": [
    "'python'이라는 문자에 search 메서드를 수행하면 match 메서드를 수행한 것과 결과가 동일하다."
   ]
  },
  {
   "cell_type": "code",
   "execution_count": 8,
   "id": "27b9af96",
   "metadata": {},
   "outputs": [
    {
     "name": "stdout",
     "output_type": "stream",
     "text": [
      "<re.Match object; span=(1, 3), match='se'>\n"
     ]
    }
   ],
   "source": [
    "m = p.search('Use python')\n",
    "print(m)"
   ]
  },
  {
   "cell_type": "markdown",
   "id": "fdcd8c9e",
   "metadata": {},
   "source": [
    "'Use python' 문자의 경우 첫번째 문자인 'U'는 대문자라 매치가 되지 않지만, 그 이후의 문자열 'se'는 소문자로 구성되어 있기에 매치가 된다. 이처럼 `search()`는 문자열의 처음부터 검색하는 것이 아니라 문자열 전체를 검색하며, 첫 번째로 일치하는 패턴을 찾기에 띄어쓰기 이후의 'python'은 매치되지 않는다.\n",
    "\n",
    "#### `findall()`\n",
    "\n",
    "`findall()`은 하나가 아닌 일치하는 모든 패턴을 찾는다."
   ]
  },
  {
   "cell_type": "code",
   "execution_count": 10,
   "id": "09203755",
   "metadata": {},
   "outputs": [
    {
     "name": "stdout",
     "output_type": "stream",
     "text": [
      "['Life', 'is', 'too', 'short', 'You', 'need', 'Python']\n"
     ]
    }
   ],
   "source": [
    "p = re.compile('[a-zA-Z]+')\n",
    "m = p.findall('Life is too short, You need Python.')\n",
    "print(m)"
   ]
  },
  {
   "cell_type": "markdown",
   "id": "3863acb7",
   "metadata": {},
   "source": [
    "이번에는 대소문자 모든 알파벳을 뜻하는 `[a-zA-Z]+` 표현식을 입력하였다. 그 후 'Life is too short, You need Python.'라는 문자에 `finall()` 메서드를 적용하면 정규 표현식과 매치되는 모든 단어를 리스트 형태도 반환한다.\n",
    "\n",
    "#### finditer()\n",
    "\n",
    "마지막으로 `findall()`과 비슷한 `finditer()` 함수의 결과를 살펴보자."
   ]
  },
  {
   "cell_type": "code",
   "execution_count": 11,
   "id": "c09316d5",
   "metadata": {},
   "outputs": [
    {
     "name": "stdout",
     "output_type": "stream",
     "text": [
      "<callable_iterator object at 0x0000017AC4799C70>\n"
     ]
    }
   ],
   "source": [
    "p = re.compile('[a-zA-Z]+')\n",
    "m = p.finditer('Life is too short, You need Python.')\n",
    "print(m)"
   ]
  },
  {
   "cell_type": "markdown",
   "id": "dc994c55",
   "metadata": {},
   "source": [
    "결과를 살펴보면 반복 가능한 객체(iterator object)를 반환한다. 이는 for문을 통해 출력할 수 있다."
   ]
  },
  {
   "cell_type": "code",
   "execution_count": 12,
   "id": "c54839d7",
   "metadata": {},
   "outputs": [
    {
     "name": "stdout",
     "output_type": "stream",
     "text": [
      "<re.Match object; span=(0, 4), match='Life'>\n",
      "<re.Match object; span=(5, 7), match='is'>\n",
      "<re.Match object; span=(8, 11), match='too'>\n",
      "<re.Match object; span=(12, 17), match='short'>\n",
      "<re.Match object; span=(19, 22), match='You'>\n",
      "<re.Match object; span=(23, 27), match='need'>\n",
      "<re.Match object; span=(28, 34), match='Python'>\n"
     ]
    }
   ],
   "source": [
    "for i in m:\n",
    "    print(i)"
   ]
  },
  {
   "cell_type": "markdown",
   "id": "fb14c615",
   "metadata": {},
   "source": [
    "### 정규 표현식 연습해보기\n",
    "\n",
    "위에서 배운 것들을 토대로 실제 크롤링 결과물 중 정규 표현식을 사용해 원하는 부분만 찾는 연습을 해보도록 하자."
   ]
  },
  {
   "cell_type": "code",
   "execution_count": 14,
   "id": "5bd630af",
   "metadata": {},
   "outputs": [],
   "source": [
    "num = \"\"\"r\\n\\t\\t\\t\\t\\t\\t\\t\\r\\n\\t\\t\\t\\t\\t\\t\\t\\t15\\r\\n\\t\\t\\t\\t\\t\\t\\t\\t23\\r\\n\\t\\t\\t\\t\\t\\t\\t\\t29\\r\\n\\t\\t\\t\\t\\t\\t\\t\\t34\\r\\n\\t\\t\\t\\t\\t\\t\\t\\t40\\r\\n\\t\\t\\t\\t\\t\\t\\t\\t44\\r\\n\\t\\t\\t\\t\\t\\t\\t\\r\\n\\t\\t\\t\\t\\t\\t\"\"\""
   ]
  },
  {
   "cell_type": "markdown",
   "id": "b64bb4ab",
   "metadata": {},
   "source": [
    "위의 HTML 결과물에서 숫자에 해당하는 부분만 추츨해보도록 하자."
   ]
  },
  {
   "cell_type": "code",
   "execution_count": 15,
   "id": "4b1eb06a",
   "metadata": {},
   "outputs": [
    {
     "name": "stdout",
     "output_type": "stream",
     "text": [
      "['15', '23', '29', '34', '40', '44']\n"
     ]
    }
   ],
   "source": [
    "import re\n",
    "\n",
    "p = re.compile('[0-9]+')\n",
    "m = p.findall(num)\n",
    "print(m)"
   ]
  },
  {
   "cell_type": "markdown",
   "id": "74caac08",
   "metadata": {},
   "source": [
    "\\n, \\t와 같은 문자를 없애는 방법으로 클렌징을 할 수도 있지만, 숫자를 의미하는 '[0-9]+' 정규 표현식을 사용하면 훨씬 간단하게 추출할 수 있다."
   ]
  },
  {
   "cell_type": "code",
   "execution_count": 16,
   "id": "239ea00e",
   "metadata": {},
   "outputs": [],
   "source": [
    "dt = '> 오늘의 날짜는 2022.12.31 입니다.'"
   ]
  },
  {
   "cell_type": "markdown",
   "id": "5c341853",
   "metadata": {},
   "source": [
    "이번에는 위의 문장에서 날짜에 해당하는 '2022.12.31' 혹은 '20221231' 만 추출해보도록 하자."
   ]
  },
  {
   "cell_type": "code",
   "execution_count": 17,
   "id": "3107531c",
   "metadata": {},
   "outputs": [
    {
     "data": {
      "text/plain": [
       "['2022.12.31']"
      ]
     },
     "execution_count": 17,
     "metadata": {},
     "output_type": "execute_result"
    }
   ],
   "source": [
    "p = re.compile('[0-9]+.[0-9]+.[0-9]+')\n",
    "p.findall(dt)"
   ]
  },
  {
   "cell_type": "markdown",
   "id": "9e3273be",
   "metadata": {},
   "source": [
    "정규 표현식 '[0-9]+.[0-9]+.[0-9]+'은 [숫자.숫자.숫자] 형태를 의미하며, 이를 통해 '2022.12.31'을 추출한다."
   ]
  },
  {
   "cell_type": "code",
   "execution_count": 18,
   "id": "375ffa51",
   "metadata": {},
   "outputs": [
    {
     "name": "stdout",
     "output_type": "stream",
     "text": [
      "['2022', '12', '31']\n"
     ]
    }
   ],
   "source": [
    "p = re.compile('[0-9]+')\n",
    "m = p.findall(dt)\n",
    "print(m)"
   ]
  },
  {
   "cell_type": "markdown",
   "id": "73cd2124",
   "metadata": {},
   "source": [
    "정규 표현식에 `[0-9]+`을 입력할 경우 숫자가 개별로 추출되므로, 추가적인 작업을 통해 '20221231' 형태로 만들어주면 된다."
   ]
  },
  {
   "cell_type": "code",
   "execution_count": 20,
   "id": "f3123b68",
   "metadata": {},
   "outputs": [
    {
     "data": {
      "text/plain": [
       "'20221231'"
      ]
     },
     "execution_count": 20,
     "metadata": {},
     "output_type": "execute_result"
    }
   ],
   "source": [
    "''.join(m)"
   ]
  },
  {
   "cell_type": "markdown",
   "id": "b7ec6547",
   "metadata": {},
   "source": [
    "`join()` 함수는 `'구분자'.join(리스트)` 형태이므로, 구분자에 ''를 입력하면 리스트 내의 모든 문자를 공백없이 합쳐서 반환한다.\n",
    "\n",
    "```{note}\n",
    "아래의 웹사이트에서 정규 표현식을 연습하고 테스트할 수 있다. 크롤링 후 내가 선택하고자 하는 문자를 한 번에 정규 표현식을 이용해 추출하는 것은 초보자 단계에서는 쉬운일이 아니므로, 아래 웹사이트에서 텍스트를 입력하고 이를 추출하는 정규 표현식을 알아낸 후, 이를 파이썬에 적용하는 것이 훨씬 효율성이 높다.\n",
    "\n",
    "- https://regexr.com\n",
    "- https://regex101.com\n",
    "```"
   ]
  }
 ],
 "metadata": {
  "kernelspec": {
   "display_name": "Python 3 (ipykernel)",
   "language": "python",
   "name": "python3"
  },
  "language_info": {
   "codemirror_mode": {
    "name": "ipython",
    "version": 3
   },
   "file_extension": ".py",
   "mimetype": "text/x-python",
   "name": "python",
   "nbconvert_exporter": "python",
   "pygments_lexer": "ipython3",
   "version": "3.9.7"
  },
  "varInspector": {
   "cols": {
    "lenName": 16,
    "lenType": 16,
    "lenVar": 40
   },
   "kernels_config": {
    "python": {
     "delete_cmd_postfix": "",
     "delete_cmd_prefix": "del ",
     "library": "var_list.py",
     "varRefreshCmd": "print(var_dic_list())"
    },
    "r": {
     "delete_cmd_postfix": ") ",
     "delete_cmd_prefix": "rm(",
     "library": "var_list.r",
     "varRefreshCmd": "cat(var_dic_list()) "
    }
   },
   "types_to_exclude": [
    "module",
    "function",
    "builtin_function_or_method",
    "instance",
    "_Feature"
   ],
   "window_display": false
  }
 },
 "nbformat": 4,
 "nbformat_minor": 5
}