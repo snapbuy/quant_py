{
 "cells": [
  {
   "cell_type": "markdown",
   "id": "8f833905",
   "metadata": {},
   "source": [
    "# 퀀트에 대해 알아보기\n",
    "\n",
    "투자에 관심이 있는 사람들이라면 '퀀트 투자'라는 단어를 한 번씩은 들어보았을 것이다. 퀀트 투자에서 '퀀트'란 모형을 기반으로 금융상품의 가격을 산정하거나, 이를 바탕으로 투자를 하는 사람을 말한다. 퀀트(Quant)라는 단어가 '계량적'을 의미하는 퀀티터티브(**Quant**itative)의 앞 글자를 따왔음을 생각하면 쉽게 이해가 될 것이다.\n",
    "\n",
    "일반적으로 투자자들이 산업과 기업을 분석해 가치를 매기는 정성적인 투자법과는 달리, 퀀트 투자는 수학과 통계, 데이터를 기반으로 전략을 만들고 이를 바탕으로 투자하는 정량적인 투자법을 의미한다. {numref}`diff`은 퀀트 투자와 정성적 투자의 차이가 비교되어 있다.\n",
    "\n",
    "```{table} 퀀트 투자와 정성적 투자의 차이\n",
    ":name: diff\n",
    "| 분류 | 퀀트 투자 | 정성적 투자 | \n",
    "| --- | --- | --- |\n",
    "| 객관성 | 높음 | 낮음 |\n",
    "| 투자기회 | 높음 | 낮음 |\n",
    "| 감정적 요인 | 적음 | 높음 |\n",
    "| 반복 가능성 | 높음 | 낮음 |\n",
    "| 위험통제능력 | 높음 | 낮음 |\n",
    "```\n",
    "\n",
    "1. 퀀트 투자는 규칙에 기반한 투자이므로 객관성이 높지만, 정성적 투자는 개인의 분석에 의존하기에 주관성이 높다.\n",
    "2. 퀀트 투자는 데이터와 규칙만 있다면 한 번에 수 백, 수 천 종목에 대한 분석도 가능하지만, 정성적 투자는 분석할 수 있는 종목의 수가 제한되어 있다.\n",
    "3. 퀀트 투자는 규칙에 기반하므로 감정에 휘둘릴 위험이 적지만, 정성적 투자는 인간의 감정적 개입될 가능성이 높다.\n",
    "4. 퀀트 투자는 동일한 규칙을 누구든지 반복 가능하지만, 정성적 투자는 분석하는 사람에 따라 다른 결과를 보인다.\n",
    "5. 퀀트 투자는 규칙을 철저하게 지킬 경우 위험통제능력이 높지만, 정성적 투자는 인간의 감정에 휘둘려 공포에 휩싸이기 쉽다.\n",
    "\n",
    "퀀트 투자는 이와 같은 장점들로 인해 날로 인기가 증가하고 있다. 해외의 경우 퀀트 투자를 전문으로 하는 자산관리 회사도 많을 뿐만 아니라, 정성적인 투자를 하는 회사들 조차 일정 부분은 계량 분석의 도움을 받고 있다. 또한 세계 최고의 헤지펀드 중 대부분은 이미 퀀트를 기반으로 운용하고 있다.\n",
    "\n",
    "## 퀀트 투자의 핵심 재료, 데이터\n",
    "\n",
    "퀀트들은 데이터를 통해 전략을 만들어내므로 그들에게 데이터는 가장 기본이 되면서도 중요한 밑천이다. 이는 마치 요리사에게 있어 재료와도 같다. 만일 재료가 부실하다면 제대로 된 요리를 만들 수 없을 뿐만 아니라 먹고 탈이 날 수도 있다. 반면 재료가 싱싱하고 최상급이라면 좋은 요리를 만들어낼 수 있다. 또한 재료가 한정적이라면 할 수 있는 요리의 수도 한정적이지만, 재료가 다채롭다면 요리사의 실력에 따라 얼마든지 다양한 요리를 만들 수 있다. 퀀트 투자의 영역 또한 마찬가지다. 만일 데이터가 부실하거나 틀린 내용이라면 잘못된 전략을 만들어 손실을 보게 될 것이다. 또한 데이터가 한정적이라면 만들 수 있는 전략의 수도 한정적이지만, 데이터가 다채롭다면, 예를 들어 전 세계 모든 국가의 주식뿐 아니라 모든 자산군의 데이터가 있다면 이를 다루는 퀀트의 실력에 따라 얼마든지 다양한 전략을 만들 수 있다.\n",
    "\n",
    "그렇다면 퀀트 투자에 필요한 데이터는 어떻게 구할까? 전문 투자자의 경우 ClariFi, 캐피탈 IQ, 팩셋, 톰슨 로이터, 블룸버그 등 해외의 여러 데이터 공급업체를 통해 양질의 데이터를 구할 수 있다. 하지만 그 비용이 1년에 최소 수천만원에서 수십억원에 이르므로 개인 투자자가 이러한 서비스를 이용하는 것은 사실상 불가능하다. 국내의 데이터 공급업체를 이용할 경우에는 그보다 저렴한 금액으로도 데이터를 구할 수 있지만, 데이터의 양이 매우 한정적이다. 웹스크래핑 혹은 크롤링과 같은 기술을 통해 웹페이지의 데이터를 무료로 추출하는 방법도 있다. 본 책에는 개인 투자자들이 현실적으로 데이터를 구할 수 있는 방법인 크롤링과 API를 이용해 국내 및 글로벌 데이터를 구하는 방법에 대해 살펴보도록 하겠다.\n",
    "\n",
    "## 퀀트 투자에 프로그래밍이 필요한 이유\n",
    "\n",
    "우리가 구한 데이터는 연구나 투자에 바로 사용할 수 있는 형태로 주어지는 경우가 거의 없다. 따라서 데이터를 목적에 맞게 처리하는 과정을 거쳐야 하며, 이를 흔히 데이터 클렌징 작업이라고 한다. 또한 정제된 데이터를 활용한 투자 전략의 백테스트나 종목 선정을 위해서 프로그래밍은 필수다. 물론 엑셀을 이용해도 간단한 형태의 백테스트 및 종목 선정은 가능하지만, 응용성 및 효율성의 측면에서 엑셀은 매우 비효율적이다.\n",
    "\n",
    "데이터를 수집하고 클렌징 작업을 할 때 대상이 몇 종목 되지 않는다면 엑셀을 이용해도 충분히 가능하다. 그러나 종목 수가 수천 종목을 넘어간다면 데이터를 손으로 일일이 처리하기가 사실상 불가능에 가깝다. 이러한 단순 반복 작업은 프로그래밍을 이용한다면 훨씬 효율적으로 수행할 수 있다.\n",
    "\n",
    "백테스트에서도 프로그래밍이 훨씬 효율적이다. 과거 12개월 누적수익률이 높은 종목에 투자하는 모멘텀 전략의 백테스트를 한다고 가정하자. 처음에는 엑셀로 백테스트를 하는 것이 편하다고 생각할 수 있다. 그러나 만일 12개월이 아닌 6개월 누적 수익률로 백테스트를 하고자 한다면 어떨까? 엑셀에서 다시 6개월 누적수익률을 구하기 위해 수식을 바꾸고 드래그하는 작업을 반복해야 할 것아다. 그러나 프로그래밍을 이용한다면 `n = 12` 부분을 `n = 6`으로 변경한 후 단지 클릭 한 번만으로 새로운 백테스트를 할 수 있다.\n",
    "\n",
    "데이터의 용량 측면에서도 프로그래밍을 이용하는 것이 훨씬 효율적이다. 만약 엑셀 용량이 100MB 이며, 투자 전략이 계속해서 늘어나는 경우를 생각해보자. 엑셀에서 A라는 전략을 백테스트하기 위해서는 해당 데이터로 작업한 후 저장할 것이다. 그 후 B라는 전략을 새롭게 백테스트하려면 해당 데이터를 새로운 엑셀 파일에 복사해 작업한 후 다시 저장해야 한다. 결과적으로 10개의 전략만 백테스트 하더라도 100MB짜리 엑셀 파일이 10개, 즉 1GB 정도의 엑셀 파일이 쌓이게 된다. 만일 데이터가 바뀔 경우 다시 10개 엑셀 시트의 데이터를 일일이 바꿔야 하는 귀찮음도 감수해야 한다. 물론 하나의 엑셀 파일 내에서 모든 전략을 수행할 수도 있지만, 이러한 경우 속도가 상당히 저하되는 문제가 있다.\n",
    "\n",
    "프로그래밍을 이용하면 어떠할까? 백테스트를 수행하는 프로그래밍 스크립트는 불과 몇 KB에 불과하므로, 10개의 전략에 대한 스크립트 파일을 합해도 1MB가 되지 않는다. 데이터가 바뀌더라도 원본 데이터 파일 하나만 수정해주면 된다.\n",
    "\n",
    "## 최고의 인기언어, 파이썬\n",
    "\n",
    "인간이 사용하는 언어의 종류가 다양하듯이, 프로그래밍 언어의 종류 역시 다양하다. 대략 700여 개 이상의 프로그래밍 언어 중 대중적으로 사용되는 언어는 그리 많지 않으므로, 대중성과 효율성을 위해 사용량이 많은 언어를 이용하는 것이 좋다. {numref}`tiobe`은 프로그래밍 언어의 사용 순위로써, 파이썬(Python)은 1위를 기록하고 있을 정도로 매우 대중적인 언어다.\n",
    "\n",
    "```{figure} image/quant_intro/tiobe.png\n",
    "---\n",
    "name: tiobe\n",
    "---\n",
    "프로그래밍 언어 사용 통계 순위\n",
    "```\n",
    "\n",
    "이처럼 파이썬의 인기가 높은 가장 큰 이유는 무료인데다 일반인들이 사용하기에도 매우 편한 형태로 구성되어 있기 때문이다. 기존에는 적게는 수십만 원, 많게는 수천만 원을 지불해야 했던 상용 소프트웨어의 기능을 파이썬에서도 모두 구현할 수 있을 뿐만 아니라, 훨씬 더 많은 기능을 활용할 수도 있다. 이로 인해 학계와 산업계에서 점차 기존 소프트웨어 대신 파이썬을 사용하는 비중이 늘어나고 있다. 또한 책이나 온라인 강의 등 파이썬을 공부할 수 있는 환경도 많아졌기에 진입 장벽도 매우 낮다.\n",
    "\n",
    "### 패키지란?\n",
    "\n",
    "패키지(package)는 기능이 비슷한 여러 함수들이 모여있는 꾸러미라고 볼 수 있으며, 파이썬이 사랑받는 이유 중 하나는 오픈 소스 생태계로 인한 다양한 패키지가 있다는 점도 크다. 전 세계의 사람들이 패키지를 만들어 온라인에 공개하고 있으며, 누구든지 이를 쉽게 다운로드 받아 사용할 수 있다. 파이썬 패키지를 공유하는 소프트웨어 저장소 PyPI(pypi.org)에는 38만개가 넘는 패키지가 공개되어 있다(2022년 7월 기준). 즉 복잡하게 코드를 짜지 않아도 기존의 패키지를 잘만 이용하면 매우 쉽게 개발 혹은 데이터 분석을 할 수 있다.\n",
    "\n",
    "패키지에 있는 함수를 사용하기 위해서는 **[패키지 설치 → 패키지 불러오기 → 함수 사용]** 의 단계를 거친다. 패키지는 한 번만 설치하면 되지만, 불러오는 작업은 파이썬을 새로 열때마다 반복해야 한다. \n",
    "\n",
    "아나콘다에는 사람들이 자주 쓰는 주요 패키지가 대부분 들어있으므로(2022년 7월 기준 678개), 해당 패키지들의 경우 별도의 설치 과정이 없이 바로 사용할 수 있다. 아나콘다에 들어 있는 패키지 목록은 아래 페이지에서 확인할 수 있다.\n",
    "\n",
    "```\n",
    "https://docs.anaconda.com/anaconda/packages/py3.9_win-64/\n",
    "```\n",
    "\n",
    "아나콘다에 포함되지 않은 패키지를 사용하기 위해서는 먼저 패키지를 설치해야 한다. 예로써 백테스팅에 사용되는 `bt` 패키지를 설치해보도록 하자. 패키지를 설치하기 위해서는 아나콘다 프롬프트를 이용하면 된다. 윈도우의 경우 시작 메뉴를 클릭한 후 [Anaconda Prompt]를 검색한 후 실행한다.\n",
    "\n",
    "```{figure} image/quant_intro/prompt.png\n",
    "---\n",
    "name: prompt\n",
    "---\n",
    "아나콘다 프롬프트 검색 및 실행\n",
    "```\n",
    "\n",
    "파이썬에서 패키지를 설치하거나 관리할 때는 `pip` 명령어를 사용한다. `pip install 패키지명`을 입력하면 해당 패키지를 설치할 수 있다. 아나콘다 프롬프트에 다음과 같이 입력한 후 엔터를 눌러보도록 하자."
   ]
  },
  {
   "cell_type": "code",
   "execution_count": null,
   "id": "e8e528f5",
   "metadata": {
    "deletable": false,
    "editable": false,
    "run_control": {
     "frozen": true
    }
   },
   "outputs": [],
   "source": [
    "pip install bt"
   ]
  },
  {
   "cell_type": "markdown",
   "id": "c3d00896",
   "metadata": {},
   "source": [
    "```{figure} image/quant_intro/bt.png\n",
    "---\n",
    "name: bt\n",
    "---\n",
    "bt 패키지 다운로드\n",
    "```\n",
    "\n",
    "코드를 실행하면 파이썬 패키지 저장소 PyPI(pypi.org)에서 패키지 관련 파일을 다운로드해 하드디스크에 설치하는 과정이 프롬프트에 출력된다. 만일 패키지 설치 중 'Proceed (y/n)?' 라는 메시지가 나오면 'y'를 입력하고 엔터를 누르면 된다.\n",
    "\n",
    "아나콘다에 포함되어있는 패키지 외에 본 책의 이해를 위해 추가적으로 설치해야 하는 패키지는 다음과 같다.\n",
    "\n",
    "- selenium\n",
    "- webdriver_manager\n",
    "- tiingo\n",
    "- yahoo_fin\n",
    "- xmltodict\n",
    "- pandas_datareader\n",
    "- riskfolio-lib\n",
    "- bt\n",
    "- schedule\n",
    "\n",
    "다운로드 받은 패키지를 사용하기 위해서는 이를 불러와야 한다. 패키지는 파이썬 스크립트에서 `import 패키지이름`을 통해 불러올 수 있다. 예를 들어 pandas 패키지를 불러오는 방법은 다음과 같다."
   ]
  },
  {
   "cell_type": "code",
   "execution_count": null,
   "id": "775dbe6e",
   "metadata": {
    "deletable": false,
    "editable": false,
    "run_control": {
     "frozen": true
    }
   },
   "outputs": [],
   "source": [
    "import pandas"
   ]
  },
  {
   "cell_type": "markdown",
   "id": "26e616b6",
   "metadata": {},
   "source": [
    "패키지 이름은 해당 패키지 내의 함수들을 사용할 때 계속해서 사용된다. 만일 패키지 이름이 너무 길면 이를 매번 입력하는것이 불편하기 때문에 `import 패키지이름 as 패키지별명` 형태로 불러올 수 있다. pandas 패키지는 일반적으로 pd로 별명을 지정한다."
   ]
  },
  {
   "cell_type": "code",
   "execution_count": 1,
   "id": "bcd6a128",
   "metadata": {},
   "outputs": [],
   "source": [
    "import pandas as pd"
   ]
  },
  {
   "cell_type": "markdown",
   "id": "c32a8f20",
   "metadata": {},
   "source": [
    "불러온 패키지 안의 내용을 살펴볼 때는 `dir(패키지이름)` 혹은 `dir(패키지별명)`을 입력한다."
   ]
  },
  {
   "cell_type": "code",
   "execution_count": 2,
   "id": "09437e78",
   "metadata": {},
   "outputs": [
    {
     "data": {
      "text/plain": [
       "['__builtins__',\n",
       " '__cached__',\n",
       " '__doc__',\n",
       " '__file__',\n",
       " '__loader__',\n",
       " '__name__',\n",
       " '__package__',\n",
       " '__path__',\n",
       " '__spec__',\n",
       " '__version__']"
      ]
     },
     "execution_count": 2,
     "metadata": {},
     "output_type": "execute_result"
    }
   ],
   "source": [
    "import selenium\n",
    "dir(selenium)"
   ]
  },
  {
   "cell_type": "markdown",
   "id": "32d0472e",
   "metadata": {},
   "source": [
    "많은 패키지들은 하위 패키지를 가지고 있으며, 하위 패키지 중에는 상위 패키지를 불러올 때 자동으로 불러오지만 그렇지 않는 것도 있다. 자동으로 불러오지 않는 하위 패키지는 다음처럼 수동으로 불러와야 한다."
   ]
  },
  {
   "cell_type": "code",
   "execution_count": 3,
   "id": "09cf34e5",
   "metadata": {},
   "outputs": [
    {
     "data": {
      "text/plain": [
       "['Chrome',\n",
       " 'ChromeOptions',\n",
       " 'ChromiumEdge',\n",
       " 'DesiredCapabilities',\n",
       " 'Edge',\n",
       " 'EdgeOptions',\n",
       " 'Firefox',\n",
       " 'FirefoxOptions',\n",
       " 'FirefoxProfile',\n",
       " 'Ie',\n",
       " 'IeOptions',\n",
       " 'Keys',\n",
       " 'Opera',\n",
       " 'Proxy',\n",
       " 'Remote',\n",
       " 'Safari',\n",
       " 'WPEWebKit',\n",
       " 'WPEWebKitOptions',\n",
       " 'WebKitGTK']"
      ]
     },
     "execution_count": 3,
     "metadata": {},
     "output_type": "execute_result"
    }
   ],
   "source": [
    "import selenium.webdriver\n",
    "dir(selenium.webdriver)[1:20]"
   ]
  },
  {
   "cell_type": "markdown",
   "id": "b74b0c72",
   "metadata": {},
   "source": [
    "패키지의 함수를 사용하기 위해서는 `패키지이름.함수()` 혹은 `패키지별명.함수()`를 입력한다."
   ]
  },
  {
   "cell_type": "code",
   "execution_count": 4,
   "id": "054d8fed",
   "metadata": {},
   "outputs": [
    {
     "data": {
      "text/html": [
       "<div>\n",
       "<style scoped>\n",
       "    .dataframe tbody tr th:only-of-type {\n",
       "        vertical-align: middle;\n",
       "    }\n",
       "\n",
       "    .dataframe tbody tr th {\n",
       "        vertical-align: top;\n",
       "    }\n",
       "\n",
       "    .dataframe thead th {\n",
       "        text-align: right;\n",
       "    }\n",
       "</style>\n",
       "<table border=\"1\" class=\"dataframe\">\n",
       "  <thead>\n",
       "    <tr style=\"text-align: right;\">\n",
       "      <th></th>\n",
       "      <th>sepal_length</th>\n",
       "      <th>sepal_width</th>\n",
       "      <th>petal_length</th>\n",
       "      <th>petal_width</th>\n",
       "      <th>species</th>\n",
       "    </tr>\n",
       "  </thead>\n",
       "  <tbody>\n",
       "    <tr>\n",
       "      <th>0</th>\n",
       "      <td>5.1</td>\n",
       "      <td>3.5</td>\n",
       "      <td>1.4</td>\n",
       "      <td>0.2</td>\n",
       "      <td>setosa</td>\n",
       "    </tr>\n",
       "    <tr>\n",
       "      <th>1</th>\n",
       "      <td>4.9</td>\n",
       "      <td>3.0</td>\n",
       "      <td>1.4</td>\n",
       "      <td>0.2</td>\n",
       "      <td>setosa</td>\n",
       "    </tr>\n",
       "    <tr>\n",
       "      <th>2</th>\n",
       "      <td>4.7</td>\n",
       "      <td>3.2</td>\n",
       "      <td>1.3</td>\n",
       "      <td>0.2</td>\n",
       "      <td>setosa</td>\n",
       "    </tr>\n",
       "    <tr>\n",
       "      <th>3</th>\n",
       "      <td>4.6</td>\n",
       "      <td>3.1</td>\n",
       "      <td>1.5</td>\n",
       "      <td>0.2</td>\n",
       "      <td>setosa</td>\n",
       "    </tr>\n",
       "    <tr>\n",
       "      <th>4</th>\n",
       "      <td>5.0</td>\n",
       "      <td>3.6</td>\n",
       "      <td>1.4</td>\n",
       "      <td>0.2</td>\n",
       "      <td>setosa</td>\n",
       "    </tr>\n",
       "    <tr>\n",
       "      <th>...</th>\n",
       "      <td>...</td>\n",
       "      <td>...</td>\n",
       "      <td>...</td>\n",
       "      <td>...</td>\n",
       "      <td>...</td>\n",
       "    </tr>\n",
       "    <tr>\n",
       "      <th>145</th>\n",
       "      <td>6.7</td>\n",
       "      <td>3.0</td>\n",
       "      <td>5.2</td>\n",
       "      <td>2.3</td>\n",
       "      <td>virginica</td>\n",
       "    </tr>\n",
       "    <tr>\n",
       "      <th>146</th>\n",
       "      <td>6.3</td>\n",
       "      <td>2.5</td>\n",
       "      <td>5.0</td>\n",
       "      <td>1.9</td>\n",
       "      <td>virginica</td>\n",
       "    </tr>\n",
       "    <tr>\n",
       "      <th>147</th>\n",
       "      <td>6.5</td>\n",
       "      <td>3.0</td>\n",
       "      <td>5.2</td>\n",
       "      <td>2.0</td>\n",
       "      <td>virginica</td>\n",
       "    </tr>\n",
       "    <tr>\n",
       "      <th>148</th>\n",
       "      <td>6.2</td>\n",
       "      <td>3.4</td>\n",
       "      <td>5.4</td>\n",
       "      <td>2.3</td>\n",
       "      <td>virginica</td>\n",
       "    </tr>\n",
       "    <tr>\n",
       "      <th>149</th>\n",
       "      <td>5.9</td>\n",
       "      <td>3.0</td>\n",
       "      <td>5.1</td>\n",
       "      <td>1.8</td>\n",
       "      <td>virginica</td>\n",
       "    </tr>\n",
       "  </tbody>\n",
       "</table>\n",
       "<p>150 rows × 5 columns</p>\n",
       "</div>"
      ],
      "text/plain": [
       "     sepal_length  sepal_width  petal_length  petal_width    species\n",
       "0             5.1          3.5           1.4          0.2     setosa\n",
       "1             4.9          3.0           1.4          0.2     setosa\n",
       "2             4.7          3.2           1.3          0.2     setosa\n",
       "3             4.6          3.1           1.5          0.2     setosa\n",
       "4             5.0          3.6           1.4          0.2     setosa\n",
       "..            ...          ...           ...          ...        ...\n",
       "145           6.7          3.0           5.2          2.3  virginica\n",
       "146           6.3          2.5           5.0          1.9  virginica\n",
       "147           6.5          3.0           5.2          2.0  virginica\n",
       "148           6.2          3.4           5.4          2.3  virginica\n",
       "149           5.9          3.0           5.1          1.8  virginica\n",
       "\n",
       "[150 rows x 5 columns]"
      ]
     },
     "execution_count": 4,
     "metadata": {},
     "output_type": "execute_result"
    }
   ],
   "source": [
    "import seaborn as sns\n",
    "\n",
    "iris = sns.load_dataset('iris')\n",
    "iris"
   ]
  },
  {
   "cell_type": "markdown",
   "id": "4c45ed3f",
   "metadata": {},
   "source": [
    "먼저 seaborn 패키지를 sns라는 별명으로 불러온 후, 데이터셋을 불러오는 함수인 `load_dataset()`을 이용해 'iris' 데이터셋을 불러왔다.\n",
    "\n",
    "패키지를 불러올때 모든 함수를 불러오는 것이 아닌 특정 함수만 선택해서 불러올 수도 있다. 이는 `from 패키지이름 import 함수` 혹은 `from 패키지이름 import 함수1, 함수2, 함수3` 형태로 불러온다."
   ]
  },
  {
   "cell_type": "code",
   "execution_count": 5,
   "id": "d5718a7c",
   "metadata": {},
   "outputs": [
    {
     "data": {
      "text/html": [
       "<div>\n",
       "<style scoped>\n",
       "    .dataframe tbody tr th:only-of-type {\n",
       "        vertical-align: middle;\n",
       "    }\n",
       "\n",
       "    .dataframe tbody tr th {\n",
       "        vertical-align: top;\n",
       "    }\n",
       "\n",
       "    .dataframe thead th {\n",
       "        text-align: right;\n",
       "    }\n",
       "</style>\n",
       "<table border=\"1\" class=\"dataframe\">\n",
       "  <thead>\n",
       "    <tr style=\"text-align: right;\">\n",
       "      <th></th>\n",
       "      <th>sepal_length</th>\n",
       "      <th>sepal_width</th>\n",
       "      <th>petal_length</th>\n",
       "      <th>petal_width</th>\n",
       "      <th>species</th>\n",
       "    </tr>\n",
       "  </thead>\n",
       "  <tbody>\n",
       "    <tr>\n",
       "      <th>0</th>\n",
       "      <td>5.1</td>\n",
       "      <td>3.5</td>\n",
       "      <td>1.4</td>\n",
       "      <td>0.2</td>\n",
       "      <td>setosa</td>\n",
       "    </tr>\n",
       "    <tr>\n",
       "      <th>1</th>\n",
       "      <td>4.9</td>\n",
       "      <td>3.0</td>\n",
       "      <td>1.4</td>\n",
       "      <td>0.2</td>\n",
       "      <td>setosa</td>\n",
       "    </tr>\n",
       "    <tr>\n",
       "      <th>2</th>\n",
       "      <td>4.7</td>\n",
       "      <td>3.2</td>\n",
       "      <td>1.3</td>\n",
       "      <td>0.2</td>\n",
       "      <td>setosa</td>\n",
       "    </tr>\n",
       "    <tr>\n",
       "      <th>3</th>\n",
       "      <td>4.6</td>\n",
       "      <td>3.1</td>\n",
       "      <td>1.5</td>\n",
       "      <td>0.2</td>\n",
       "      <td>setosa</td>\n",
       "    </tr>\n",
       "    <tr>\n",
       "      <th>4</th>\n",
       "      <td>5.0</td>\n",
       "      <td>3.6</td>\n",
       "      <td>1.4</td>\n",
       "      <td>0.2</td>\n",
       "      <td>setosa</td>\n",
       "    </tr>\n",
       "    <tr>\n",
       "      <th>...</th>\n",
       "      <td>...</td>\n",
       "      <td>...</td>\n",
       "      <td>...</td>\n",
       "      <td>...</td>\n",
       "      <td>...</td>\n",
       "    </tr>\n",
       "    <tr>\n",
       "      <th>145</th>\n",
       "      <td>6.7</td>\n",
       "      <td>3.0</td>\n",
       "      <td>5.2</td>\n",
       "      <td>2.3</td>\n",
       "      <td>virginica</td>\n",
       "    </tr>\n",
       "    <tr>\n",
       "      <th>146</th>\n",
       "      <td>6.3</td>\n",
       "      <td>2.5</td>\n",
       "      <td>5.0</td>\n",
       "      <td>1.9</td>\n",
       "      <td>virginica</td>\n",
       "    </tr>\n",
       "    <tr>\n",
       "      <th>147</th>\n",
       "      <td>6.5</td>\n",
       "      <td>3.0</td>\n",
       "      <td>5.2</td>\n",
       "      <td>2.0</td>\n",
       "      <td>virginica</td>\n",
       "    </tr>\n",
       "    <tr>\n",
       "      <th>148</th>\n",
       "      <td>6.2</td>\n",
       "      <td>3.4</td>\n",
       "      <td>5.4</td>\n",
       "      <td>2.3</td>\n",
       "      <td>virginica</td>\n",
       "    </tr>\n",
       "    <tr>\n",
       "      <th>149</th>\n",
       "      <td>5.9</td>\n",
       "      <td>3.0</td>\n",
       "      <td>5.1</td>\n",
       "      <td>1.8</td>\n",
       "      <td>virginica</td>\n",
       "    </tr>\n",
       "  </tbody>\n",
       "</table>\n",
       "<p>150 rows × 5 columns</p>\n",
       "</div>"
      ],
      "text/plain": [
       "     sepal_length  sepal_width  petal_length  petal_width    species\n",
       "0             5.1          3.5           1.4          0.2     setosa\n",
       "1             4.9          3.0           1.4          0.2     setosa\n",
       "2             4.7          3.2           1.3          0.2     setosa\n",
       "3             4.6          3.1           1.5          0.2     setosa\n",
       "4             5.0          3.6           1.4          0.2     setosa\n",
       "..            ...          ...           ...          ...        ...\n",
       "145           6.7          3.0           5.2          2.3  virginica\n",
       "146           6.3          2.5           5.0          1.9  virginica\n",
       "147           6.5          3.0           5.2          2.0  virginica\n",
       "148           6.2          3.4           5.4          2.3  virginica\n",
       "149           5.9          3.0           5.1          1.8  virginica\n",
       "\n",
       "[150 rows x 5 columns]"
      ]
     },
     "execution_count": 5,
     "metadata": {},
     "output_type": "execute_result"
    }
   ],
   "source": [
    "from seaborn import load_dataset\n",
    "load_dataset('iris')"
   ]
  },
  {
   "cell_type": "markdown",
   "id": "4868c894",
   "metadata": {},
   "source": [
    "이번에는 seaborn 패키지에서 `load_dataset()` 함수만 불러왔다. 이처럼 특정 함수만 불러온 경우, 함수명 앞에 패키지이름을 붙여주지 않아도 함수가 작동한다. 만일 한번에 모든 함수를 불러오고 싶을 때는 `from 패키지이름 import *` 를 입력하면 된다.\n",
    "\n",
    "### 함수와 메서드의 차이\n",
    "\n",
    "파이썬 관련 책을 살펴보면 똑같이 `something()` 형태로 생겼지만 어떤 것은 함수, 어떤 것은 메서드라 불린다. 먼저 함수는 특정 기능을 수행하는 역할을 하며, 각 함수마다 나름의 기능을 가지고 있다. 예를 들어 파이썬의 내장 함수인 `sum()`은 합계를 구한다."
   ]
  },
  {
   "cell_type": "code",
   "execution_count": 6,
   "id": "cf11a8c5",
   "metadata": {},
   "outputs": [
    {
     "data": {
      "text/plain": [
       "3"
      ]
     },
     "execution_count": 6,
     "metadata": {},
     "output_type": "execute_result"
    }
   ],
   "source": [
    "sum([1, 2])"
   ]
  },
  {
   "cell_type": "markdown",
   "id": "4a4d3ba7",
   "metadata": {},
   "source": [
    "특정 패키지에서 제공하는 함수도 있다. pandas의 `DataFrame()` 함수는 데이터프레임을 만드는 역할을 한다."
   ]
  },
  {
   "cell_type": "code",
   "execution_count": 7,
   "id": "f4c612ec",
   "metadata": {},
   "outputs": [
    {
     "data": {
      "text/html": [
       "<div>\n",
       "<style scoped>\n",
       "    .dataframe tbody tr th:only-of-type {\n",
       "        vertical-align: middle;\n",
       "    }\n",
       "\n",
       "    .dataframe tbody tr th {\n",
       "        vertical-align: top;\n",
       "    }\n",
       "\n",
       "    .dataframe thead th {\n",
       "        text-align: right;\n",
       "    }\n",
       "</style>\n",
       "<table border=\"1\" class=\"dataframe\">\n",
       "  <thead>\n",
       "    <tr style=\"text-align: right;\">\n",
       "      <th></th>\n",
       "      <th>x</th>\n",
       "    </tr>\n",
       "  </thead>\n",
       "  <tbody>\n",
       "    <tr>\n",
       "      <th>0</th>\n",
       "      <td>1</td>\n",
       "    </tr>\n",
       "    <tr>\n",
       "      <th>1</th>\n",
       "      <td>2</td>\n",
       "    </tr>\n",
       "    <tr>\n",
       "      <th>2</th>\n",
       "      <td>3</td>\n",
       "    </tr>\n",
       "  </tbody>\n",
       "</table>\n",
       "</div>"
      ],
      "text/plain": [
       "   x\n",
       "0  1\n",
       "1  2\n",
       "2  3"
      ]
     },
     "execution_count": 7,
     "metadata": {},
     "output_type": "execute_result"
    }
   ],
   "source": [
    "import pandas as pd\n",
    "df = pd.DataFrame({'x' : [1,2,3]})\n",
    "\n",
    "df"
   ]
  },
  {
   "cell_type": "markdown",
   "id": "34950469",
   "metadata": {},
   "source": [
    "반면 메서드는 클래스 및 객체와 연관되어 있는 함수다. `info()` 메서드는 위에서 만든 데이터프레임 객체의 정보를 보여준다."
   ]
  },
  {
   "cell_type": "code",
   "execution_count": 8,
   "id": "93c0b9b2",
   "metadata": {},
   "outputs": [
    {
     "name": "stdout",
     "output_type": "stream",
     "text": [
      "<class 'pandas.core.frame.DataFrame'>\n",
      "RangeIndex: 3 entries, 0 to 2\n",
      "Data columns (total 1 columns):\n",
      " #   Column  Non-Null Count  Dtype\n",
      "---  ------  --------------  -----\n",
      " 0   x       3 non-null      int64\n",
      "dtypes: int64(1)\n",
      "memory usage: 152.0 bytes\n"
     ]
    }
   ],
   "source": [
    "df.info()"
   ]
  },
  {
   "cell_type": "markdown",
   "id": "cdf3f571",
   "metadata": {},
   "source": [
    "각 객체 혹은 자료 구조에 따라 사용할 수 있는 메서드가 다르다. `info()` 메서드는 데이터프레임에는 사용할 수 있지만, 리스트 객체에는 사용할 수 없다."
   ]
  },
  {
   "cell_type": "code",
   "execution_count": null,
   "id": "ee21547b",
   "metadata": {
    "deletable": false,
    "editable": false,
    "run_control": {
     "frozen": true
    }
   },
   "outputs": [],
   "source": [
    "lst = [1,2,3]\n",
    "lst.info()"
   ]
  },
  {
   "cell_type": "markdown",
   "id": "d6892808",
   "metadata": {},
   "source": [
    "```{figure} image/quant_intro/list_error.png\n",
    "---\n",
    "name: list_error\n",
    "---\n",
    "```\n",
    "\n",
    "위 코드를 실행하면 **AttributeError: 'list' object has no attribute 'info'** 라는 에러가 뜬다. list 객체는 `info()` 매서드를 보유하고 있지 않아 에러가 발생하는 것이다. 즉 함수는 `sum()`, `pd.DataFrame()`과 같이 독립적으로 사용되는 반면, 메서드는 a라는 특정 객체가 존재할 때 `a.head()`, `a.info()`와 같은 형태로 사용된다.\n",
    "\n",
    "## 데이터 관리의 표준, SQL\n",
    "\n",
    "만일 수많은 데이터를 텍스트나 엑셀 파일로 관리할 경우 어떠한 단점이 있을까? 먼저 다수의 사람이 데이터를 공유하기 어려우며, 원하는 데이터가 있으면 매번 파일을 전송해주어야 하는 번거로움이 있다. 둘째로는 대량의 데이터를 다루기가 힘들다. 마지막으로 파일 삭제, 하드 디스크 고장, 보안 문제 등 사고에 대응하기가 어렵다. 이러한 이유로 실무에서는 대부분 데이터베이스를 이용해 데이터를 효율적으로 관리한다.\n",
    "\n",
    "데이터베이스(database, DB)란 여러 사람이 공유하여 사용할 목적으로 체계화하여 통합, 관리하는 데이터의 집합이다. 예를 들어 티커, 주가, 재무제표, 목표주가 등 투자와 관련된 모든 데이터를 데이터베이스에 저장한 후 이를 관리하거나 사용할 수 있다. 데이터베이스 관리 시스템(database management system, DBMS)이란 다수의 사용자들이 데이터베이스 내의 데이터를 접근할 수 있도록 해주는 소프트웨어 도구의 집합이다. DBMS는 대량의 데이터를 다수의 사람이 안전하고 간단히 다룰 수 있게 해주는 장점이 있다.\n",
    "\n",
    "```{figure} image/quant_intro/dbms.png\n",
    "---\n",
    "name: dbms\n",
    "---\n",
    "데이터베이스 관리 시스템의 활용\n",
    "```\n",
    "\n",
    "DBMS 중 가장 일반적으로 사용되는 것이 관계형 데이터베이스(Relational Database)다. 이는 엑셀 시트처럼 열과 행으로 이루어진 2차원 표 형식으로써 데이터를 관리하거나 이해하기 쉽다. 또한 SQL이라는 전용 언어를 사용해서 데이터를 처리할 수 있다. 이러한 관계형 데이터베이스 관리 시스템 중 대표적으로 사용되는 것으로는 오라클 RDBMS, MS SQL Server, Postgre SQL, MySQL 등이 있으며 본 책에서는 무료로 사용 가능한 MySQL을 살펴보도록 하겠다.\n",
    "\n",
    "```{note}\n",
    "파이썬 및 SQL를 설치하는 법은 부록에 설명되어 있으니 참조하기 바란다.\n",
    "```"
   ]
  }
 ],
 "metadata": {
  "kernelspec": {
   "display_name": "Python 3 (ipykernel)",
   "language": "python",
   "name": "python3"
  },
  "language_info": {
   "codemirror_mode": {
    "name": "ipython",
    "version": 3
   },
   "file_extension": ".py",
   "mimetype": "text/x-python",
   "name": "python",
   "nbconvert_exporter": "python",
   "pygments_lexer": "ipython3",
   "version": "3.9.7"
  },
  "varInspector": {
   "cols": {
    "lenName": 16,
    "lenType": 16,
    "lenVar": 40
   },
   "kernels_config": {
    "python": {
     "delete_cmd_postfix": "",
     "delete_cmd_prefix": "del ",
     "library": "var_list.py",
     "varRefreshCmd": "print(var_dic_list())"
    },
    "r": {
     "delete_cmd_postfix": ") ",
     "delete_cmd_prefix": "rm(",
     "library": "var_list.r",
     "varRefreshCmd": "cat(var_dic_list()) "
    }
   },
   "types_to_exclude": [
    "module",
    "function",
    "builtin_function_or_method",
    "instance",
    "_Feature"
   ],
   "window_display": false
  }
 },
 "nbformat": 4,
 "nbformat_minor": 5
}