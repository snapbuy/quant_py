{
 "cells": [
  {
   "cell_type": "markdown",
   "metadata": {},
   "source": [
    "# 파이썬을 이용한 퀀트 투자 포트폴리오 만들기"
   ]
  },
  {
   "cell_type": "markdown",
   "metadata": {},
   "source": [
    "본 페이지는 **파이썬을 이용한 퀀트 투자 포트폴리오 만들기의 웹사이트** 입니다. 책이 완성되면 출판 예정입니다."
   ]
  },
  {
   "cell_type": "markdown",
   "metadata": {},
   "source": [
    "## 지은이 소개\n",
    "\n",
    "이현열\n",
    "\n",
    "한양대학교에서 경영학을 전공하고, 카이스트 대학원에서 금융공학 석사 학위 취득 후 한양대학교 재무금융 박사 과정을 수료했다. 대학시절 겁이 많은 성격 탓에 주식 투자는 생각조차 하지 않았지만 통계와 수학으로 금융시장을 연구하는 '금융공학'의 매력에 빠져 대학원 진학한 후 투자를 업으로 하고 있다. 국내 거대 증권사, 운용사, 보험사를 거치며 각각 주식 운용, 퀀트 포트폴리오 매니저, 데이터 분석 업무를 경험했고, 현재는 데이터 기술 기반의 핀테크 기업인 두물머리에서 데이터 분석 및 퀀트 업무를 담당하고 있다. 최신의 기술과 연구를 바탕으로 퀀트 솔루션을 개발하고 일에 매진하며 한양대학교 겸임교수직을 맡고 있다. 지은 책으로는 《스마트베타》(2017), 《R을 이용한 퀀트 투자 포트폴리오 만들기》(2019),《감으로 하는 투자 데이터로 하는 투자》(2022)가 있으며, 번역한 책으로는 《효율적으로 비효율적인 시장》(2021)이 있다."
   ]
  }
 ],
 "metadata": {
  "kernelspec": {
   "display_name": "Python 3 (ipykernel)",
   "language": "python",
   "name": "python3"
  },
  "language_info": {
   "codemirror_mode": {
    "name": "ipython",
    "version": 3
   },
   "file_extension": ".py",
   "mimetype": "text/x-python",
   "name": "python",
   "nbconvert_exporter": "python",
   "pygments_lexer": "ipython3",
   "version": "3.9.7"
  }
 },
 "nbformat": 4,
 "nbformat_minor": 1
}